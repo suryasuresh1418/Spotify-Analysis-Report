{
  "nbformat": 4,
  "nbformat_minor": 0,
  "metadata": {
    "colab": {
      "provenance": [],
      "include_colab_link": true
    },
    "kernelspec": {
      "name": "python3",
      "display_name": "Python 3"
    },
    "language_info": {
      "name": "python"
    }
  },
  "cells": [
    {
      "cell_type": "markdown",
      "metadata": {
        "id": "view-in-github",
        "colab_type": "text"
      },
      "source": [
        "<a href=\"https://colab.research.google.com/github/suryasuresh1418/Spotify-Analysis-Report/blob/main/Spoty.ipynb\" target=\"_parent\"><img src=\"https://colab.research.google.com/assets/colab-badge.svg\" alt=\"Open In Colab\"/></a>"
      ]
    },
    {
      "cell_type": "code",
      "execution_count": null,
      "metadata": {
        "colab": {
          "base_uri": "https://localhost:8080/",
          "height": 73
        },
        "id": "Nypk9oHBlJGx",
        "outputId": "0e3023b1-8a17-4a1c-c792-de5a046ac731"
      },
      "outputs": [
        {
          "output_type": "display_data",
          "data": {
            "text/plain": [
              "<IPython.core.display.HTML object>"
            ],
            "text/html": [
              "\n",
              "     <input type=\"file\" id=\"files-404b5ccd-91b0-4170-b5a8-92ed8ccfce78\" name=\"files[]\" multiple disabled\n",
              "        style=\"border:none\" />\n",
              "     <output id=\"result-404b5ccd-91b0-4170-b5a8-92ed8ccfce78\">\n",
              "      Upload widget is only available when the cell has been executed in the\n",
              "      current browser session. Please rerun this cell to enable.\n",
              "      </output>\n",
              "      <script>// Copyright 2017 Google LLC\n",
              "//\n",
              "// Licensed under the Apache License, Version 2.0 (the \"License\");\n",
              "// you may not use this file except in compliance with the License.\n",
              "// You may obtain a copy of the License at\n",
              "//\n",
              "//      http://www.apache.org/licenses/LICENSE-2.0\n",
              "//\n",
              "// Unless required by applicable law or agreed to in writing, software\n",
              "// distributed under the License is distributed on an \"AS IS\" BASIS,\n",
              "// WITHOUT WARRANTIES OR CONDITIONS OF ANY KIND, either express or implied.\n",
              "// See the License for the specific language governing permissions and\n",
              "// limitations under the License.\n",
              "\n",
              "/**\n",
              " * @fileoverview Helpers for google.colab Python module.\n",
              " */\n",
              "(function(scope) {\n",
              "function span(text, styleAttributes = {}) {\n",
              "  const element = document.createElement('span');\n",
              "  element.textContent = text;\n",
              "  for (const key of Object.keys(styleAttributes)) {\n",
              "    element.style[key] = styleAttributes[key];\n",
              "  }\n",
              "  return element;\n",
              "}\n",
              "\n",
              "// Max number of bytes which will be uploaded at a time.\n",
              "const MAX_PAYLOAD_SIZE = 100 * 1024;\n",
              "\n",
              "function _uploadFiles(inputId, outputId) {\n",
              "  const steps = uploadFilesStep(inputId, outputId);\n",
              "  const outputElement = document.getElementById(outputId);\n",
              "  // Cache steps on the outputElement to make it available for the next call\n",
              "  // to uploadFilesContinue from Python.\n",
              "  outputElement.steps = steps;\n",
              "\n",
              "  return _uploadFilesContinue(outputId);\n",
              "}\n",
              "\n",
              "// This is roughly an async generator (not supported in the browser yet),\n",
              "// where there are multiple asynchronous steps and the Python side is going\n",
              "// to poll for completion of each step.\n",
              "// This uses a Promise to block the python side on completion of each step,\n",
              "// then passes the result of the previous step as the input to the next step.\n",
              "function _uploadFilesContinue(outputId) {\n",
              "  const outputElement = document.getElementById(outputId);\n",
              "  const steps = outputElement.steps;\n",
              "\n",
              "  const next = steps.next(outputElement.lastPromiseValue);\n",
              "  return Promise.resolve(next.value.promise).then((value) => {\n",
              "    // Cache the last promise value to make it available to the next\n",
              "    // step of the generator.\n",
              "    outputElement.lastPromiseValue = value;\n",
              "    return next.value.response;\n",
              "  });\n",
              "}\n",
              "\n",
              "/**\n",
              " * Generator function which is called between each async step of the upload\n",
              " * process.\n",
              " * @param {string} inputId Element ID of the input file picker element.\n",
              " * @param {string} outputId Element ID of the output display.\n",
              " * @return {!Iterable<!Object>} Iterable of next steps.\n",
              " */\n",
              "function* uploadFilesStep(inputId, outputId) {\n",
              "  const inputElement = document.getElementById(inputId);\n",
              "  inputElement.disabled = false;\n",
              "\n",
              "  const outputElement = document.getElementById(outputId);\n",
              "  outputElement.innerHTML = '';\n",
              "\n",
              "  const pickedPromise = new Promise((resolve) => {\n",
              "    inputElement.addEventListener('change', (e) => {\n",
              "      resolve(e.target.files);\n",
              "    });\n",
              "  });\n",
              "\n",
              "  const cancel = document.createElement('button');\n",
              "  inputElement.parentElement.appendChild(cancel);\n",
              "  cancel.textContent = 'Cancel upload';\n",
              "  const cancelPromise = new Promise((resolve) => {\n",
              "    cancel.onclick = () => {\n",
              "      resolve(null);\n",
              "    };\n",
              "  });\n",
              "\n",
              "  // Wait for the user to pick the files.\n",
              "  const files = yield {\n",
              "    promise: Promise.race([pickedPromise, cancelPromise]),\n",
              "    response: {\n",
              "      action: 'starting',\n",
              "    }\n",
              "  };\n",
              "\n",
              "  cancel.remove();\n",
              "\n",
              "  // Disable the input element since further picks are not allowed.\n",
              "  inputElement.disabled = true;\n",
              "\n",
              "  if (!files) {\n",
              "    return {\n",
              "      response: {\n",
              "        action: 'complete',\n",
              "      }\n",
              "    };\n",
              "  }\n",
              "\n",
              "  for (const file of files) {\n",
              "    const li = document.createElement('li');\n",
              "    li.append(span(file.name, {fontWeight: 'bold'}));\n",
              "    li.append(span(\n",
              "        `(${file.type || 'n/a'}) - ${file.size} bytes, ` +\n",
              "        `last modified: ${\n",
              "            file.lastModifiedDate ? file.lastModifiedDate.toLocaleDateString() :\n",
              "                                    'n/a'} - `));\n",
              "    const percent = span('0% done');\n",
              "    li.appendChild(percent);\n",
              "\n",
              "    outputElement.appendChild(li);\n",
              "\n",
              "    const fileDataPromise = new Promise((resolve) => {\n",
              "      const reader = new FileReader();\n",
              "      reader.onload = (e) => {\n",
              "        resolve(e.target.result);\n",
              "      };\n",
              "      reader.readAsArrayBuffer(file);\n",
              "    });\n",
              "    // Wait for the data to be ready.\n",
              "    let fileData = yield {\n",
              "      promise: fileDataPromise,\n",
              "      response: {\n",
              "        action: 'continue',\n",
              "      }\n",
              "    };\n",
              "\n",
              "    // Use a chunked sending to avoid message size limits. See b/62115660.\n",
              "    let position = 0;\n",
              "    do {\n",
              "      const length = Math.min(fileData.byteLength - position, MAX_PAYLOAD_SIZE);\n",
              "      const chunk = new Uint8Array(fileData, position, length);\n",
              "      position += length;\n",
              "\n",
              "      const base64 = btoa(String.fromCharCode.apply(null, chunk));\n",
              "      yield {\n",
              "        response: {\n",
              "          action: 'append',\n",
              "          file: file.name,\n",
              "          data: base64,\n",
              "        },\n",
              "      };\n",
              "\n",
              "      let percentDone = fileData.byteLength === 0 ?\n",
              "          100 :\n",
              "          Math.round((position / fileData.byteLength) * 100);\n",
              "      percent.textContent = `${percentDone}% done`;\n",
              "\n",
              "    } while (position < fileData.byteLength);\n",
              "  }\n",
              "\n",
              "  // All done.\n",
              "  yield {\n",
              "    response: {\n",
              "      action: 'complete',\n",
              "    }\n",
              "  };\n",
              "}\n",
              "\n",
              "scope.google = scope.google || {};\n",
              "scope.google.colab = scope.google.colab || {};\n",
              "scope.google.colab._files = {\n",
              "  _uploadFiles,\n",
              "  _uploadFilesContinue,\n",
              "};\n",
              "})(self);\n",
              "</script> "
            ]
          },
          "metadata": {}
        },
        {
          "output_type": "stream",
          "name": "stdout",
          "text": [
            "Saving spotify1.csv to spotify1.csv\n"
          ]
        }
      ],
      "source": [
        "# prompt: upload dataset\n",
        "\n",
        "from google.colab import files\n",
        "uploaded = files.upload()"
      ]
    },
    {
      "cell_type": "code",
      "source": [
        "# prompt: read dataset , show data head and row count\n",
        "\n",
        "import pandas as pd\n",
        "import io\n",
        "\n",
        "# Assuming the uploaded file is a CSV\n",
        "df=pd.read_csv('spotify1.csv', encoding='latin-1')\n",
        "\n",
        "# Display the first few rows of the DataFrame\n",
        "print(df.head())\n",
        "\n",
        "# Display the number of rows in the DataFrame\n",
        "print(\"Number of rows:\", len(df))\n"
      ],
      "metadata": {
        "colab": {
          "base_uri": "https://localhost:8080/"
        },
        "id": "8njP4RHEtu0V",
        "outputId": "b937d001-b144-458a-8e07-a09f6dc5e83d"
      },
      "execution_count": null,
      "outputs": [
        {
          "output_type": "stream",
          "name": "stdout",
          "text": [
            "         Date                                          Track URL  Position  \\\n",
            "0   7/20/2017  https://open.spotify.com/track/3RXkboS74UYzN14...         1   \n",
            "1   7/31/2018  https://open.spotify.com/track/77wz2VtAwxAwYOG...         1   \n",
            "2  08-02-2018  https://open.spotify.com/track/77wz2VtAwxAwYOG...         1   \n",
            "3   7/23/2017  https://open.spotify.com/track/6mw02h3qbWmuq2b...         1   \n",
            "4   6/29/2018  https://open.spotify.com/track/2iUXsYOEPhVqEBw...         1   \n",
            "\n",
            "                                          Track Name               Artist  \\\n",
            "0                                                NaN                  NaN   \n",
            "1  Miljonair (feat. SBMG, Lil' Kleine, Boef & Ron...               $hirak   \n",
            "2  Miljonair (feat. SBMG, Lil' Kleine, Boef & Ron...               $hirak   \n",
            "3                                          Millionr    187 Strassenbande   \n",
            "4                                         Youngblood  5 Seconds of Summer   \n",
            "\n",
            "   Streams      Country  \n",
            "0     3457    Lithuania  \n",
            "1   238729  Netherlands  \n",
            "2   245639  Netherlands  \n",
            "3   387632      Germany  \n",
            "4   261795    Australia  \n",
            "Number of rows: 1048575\n"
          ]
        }
      ]
    },
    {
      "cell_type": "code",
      "source": [
        "# prompt: remove rows with null values and show rowcount\n",
        "\n",
        "# Drop rows with any null values\n",
        "df_cleaned = df.dropna()\n",
        "\n",
        "# Display the first few rows of the cleaned DataFrame\n",
        "print(df_cleaned.head())\n",
        "\n",
        "# Display the number of rows in the cleaned DataFrame\n",
        "print(\"Number of rows after removing null values:\", len(df_cleaned))\n"
      ],
      "metadata": {
        "colab": {
          "base_uri": "https://localhost:8080/"
        },
        "id": "3Pb1X1BKuO_A",
        "outputId": "ee402363-b67d-4d9f-8490-78c016c0b292"
      },
      "execution_count": null,
      "outputs": [
        {
          "output_type": "stream",
          "name": "stdout",
          "text": [
            "         Date                                          Track URL  Position  \\\n",
            "1   7/31/2018  https://open.spotify.com/track/77wz2VtAwxAwYOG...         1   \n",
            "2  08-02-2018  https://open.spotify.com/track/77wz2VtAwxAwYOG...         1   \n",
            "3   7/23/2017  https://open.spotify.com/track/6mw02h3qbWmuq2b...         1   \n",
            "4   6/29/2018  https://open.spotify.com/track/2iUXsYOEPhVqEBw...         1   \n",
            "5  06-11-2018  https://open.spotify.com/track/55S2PQgSMYAhgoT...         1   \n",
            "\n",
            "                                          Track Name               Artist  \\\n",
            "1  Miljonair (feat. SBMG, Lil' Kleine, Boef & Ron...               $hirak   \n",
            "2  Miljonair (feat. SBMG, Lil' Kleine, Boef & Ron...               $hirak   \n",
            "3                                          Millionr    187 Strassenbande   \n",
            "4                                         Youngblood  5 Seconds of Summer   \n",
            "5                                         Youngblood  5 Seconds of Summer   \n",
            "\n",
            "   Streams      Country  \n",
            "1   238729  Netherlands  \n",
            "2   245639  Netherlands  \n",
            "3   387632      Germany  \n",
            "4   261795    Australia  \n",
            "5   276266    Australia  \n",
            "Number of rows after removing null values: 1048241\n"
          ]
        }
      ]
    },
    {
      "cell_type": "code",
      "source": [
        "# prompt: modify the values in the date column which is in the format mm/dd/yyyy to keep only yyyy format, remove move and date. error :See the caveats in the documentation: https://pandas.pydata.org/pandas-docs/stable/user_guide/indexing.html#returning-a-view-versus-a-copy\n",
        "#   df_cleaned['Date'] = df_cleaned['Date'].str.split('/').str[-1]\n",
        "# KeyError: \"['move', 'date'] not found in axis\"\n",
        "\n",
        "from google.colab import files\n",
        "import pandas as pd\n",
        "import io\n",
        "\n",
        "# Assuming the uploaded file is a CSV\n",
        "df=pd.read_csv('spotify1.csv', encoding='latin-1')\n",
        "\n",
        "# Display the first few rows of the DataFrame\n",
        "print(df.head())\n",
        "\n",
        "# Display the number of rows in the DataFrame\n",
        "print(\"Number of rows:\", len(df))\n",
        "\n",
        "\n",
        "# Drop rows with any null values\n",
        "df_cleaned = df.dropna()\n",
        "\n",
        "# Display the first few rows of the cleaned DataFrame\n",
        "print(df_cleaned.head())\n",
        "\n",
        "# Display the number of rows in the cleaned DataFrame\n",
        "print(\"Number of rows after removing null values:\", len(df_cleaned))\n",
        "\n",
        "# Extract the year from the 'Date' column\n",
        "df_cleaned['Date'] = df_cleaned['Date'].str.split('/').str[-1]\n",
        "\n",
        "# Display the modified DataFrame\n",
        "print(df_cleaned.head())\n"
      ],
      "metadata": {
        "colab": {
          "base_uri": "https://localhost:8080/"
        },
        "id": "XHMxEPUOuXr2",
        "outputId": "937cfdd9-80ee-495d-82f3-848741ea18e1"
      },
      "execution_count": null,
      "outputs": [
        {
          "output_type": "stream",
          "name": "stdout",
          "text": [
            "         Date                                          Track URL  Position  \\\n",
            "0   7/20/2017  https://open.spotify.com/track/3RXkboS74UYzN14...         1   \n",
            "1   7/31/2018  https://open.spotify.com/track/77wz2VtAwxAwYOG...         1   \n",
            "2  08-02-2018  https://open.spotify.com/track/77wz2VtAwxAwYOG...         1   \n",
            "3   7/23/2017  https://open.spotify.com/track/6mw02h3qbWmuq2b...         1   \n",
            "4   6/29/2018  https://open.spotify.com/track/2iUXsYOEPhVqEBw...         1   \n",
            "\n",
            "                                          Track Name               Artist  \\\n",
            "0                                                NaN                  NaN   \n",
            "1  Miljonair (feat. SBMG, Lil' Kleine, Boef & Ron...               $hirak   \n",
            "2  Miljonair (feat. SBMG, Lil' Kleine, Boef & Ron...               $hirak   \n",
            "3                                          Millionr    187 Strassenbande   \n",
            "4                                         Youngblood  5 Seconds of Summer   \n",
            "\n",
            "   Streams      Country  \n",
            "0     3457    Lithuania  \n",
            "1   238729  Netherlands  \n",
            "2   245639  Netherlands  \n",
            "3   387632      Germany  \n",
            "4   261795    Australia  \n",
            "Number of rows: 1048575\n",
            "         Date                                          Track URL  Position  \\\n",
            "1   7/31/2018  https://open.spotify.com/track/77wz2VtAwxAwYOG...         1   \n",
            "2  08-02-2018  https://open.spotify.com/track/77wz2VtAwxAwYOG...         1   \n",
            "3   7/23/2017  https://open.spotify.com/track/6mw02h3qbWmuq2b...         1   \n",
            "4   6/29/2018  https://open.spotify.com/track/2iUXsYOEPhVqEBw...         1   \n",
            "5  06-11-2018  https://open.spotify.com/track/55S2PQgSMYAhgoT...         1   \n",
            "\n",
            "                                          Track Name               Artist  \\\n",
            "1  Miljonair (feat. SBMG, Lil' Kleine, Boef & Ron...               $hirak   \n",
            "2  Miljonair (feat. SBMG, Lil' Kleine, Boef & Ron...               $hirak   \n",
            "3                                          Millionr    187 Strassenbande   \n",
            "4                                         Youngblood  5 Seconds of Summer   \n",
            "5                                         Youngblood  5 Seconds of Summer   \n",
            "\n",
            "   Streams      Country  \n",
            "1   238729  Netherlands  \n",
            "2   245639  Netherlands  \n",
            "3   387632      Germany  \n",
            "4   261795    Australia  \n",
            "5   276266    Australia  \n",
            "Number of rows after removing null values: 1048241\n",
            "         Date                                          Track URL  Position  \\\n",
            "1        2018  https://open.spotify.com/track/77wz2VtAwxAwYOG...         1   \n",
            "2  08-02-2018  https://open.spotify.com/track/77wz2VtAwxAwYOG...         1   \n",
            "3        2017  https://open.spotify.com/track/6mw02h3qbWmuq2b...         1   \n",
            "4        2018  https://open.spotify.com/track/2iUXsYOEPhVqEBw...         1   \n",
            "5  06-11-2018  https://open.spotify.com/track/55S2PQgSMYAhgoT...         1   \n",
            "\n",
            "                                          Track Name               Artist  \\\n",
            "1  Miljonair (feat. SBMG, Lil' Kleine, Boef & Ron...               $hirak   \n",
            "2  Miljonair (feat. SBMG, Lil' Kleine, Boef & Ron...               $hirak   \n",
            "3                                          Millionr    187 Strassenbande   \n",
            "4                                         Youngblood  5 Seconds of Summer   \n",
            "5                                         Youngblood  5 Seconds of Summer   \n",
            "\n",
            "   Streams      Country  \n",
            "1   238729  Netherlands  \n",
            "2   245639  Netherlands  \n",
            "3   387632      Germany  \n",
            "4   261795    Australia  \n",
            "5   276266    Australia  \n"
          ]
        },
        {
          "output_type": "stream",
          "name": "stderr",
          "text": [
            "<ipython-input-8-e229ddef8068>:29: SettingWithCopyWarning: \n",
            "A value is trying to be set on a copy of a slice from a DataFrame.\n",
            "Try using .loc[row_indexer,col_indexer] = value instead\n",
            "\n",
            "See the caveats in the documentation: https://pandas.pydata.org/pandas-docs/stable/user_guide/indexing.html#returning-a-view-versus-a-copy\n",
            "  df_cleaned['Date'] = df_cleaned['Date'].str.split('/').str[-1]\n"
          ]
        }
      ]
    },
    {
      "cell_type": "code",
      "source": [
        "# prompt: show date column\n",
        "\n",
        "# Assuming df_cleaned is already defined as in the preceding code\n",
        "\n",
        "# Display the 'Date' column\n",
        "df_cleaned['Date'] = df_cleaned['Date'].str.split('-').str[-1]\n",
        "print(df_cleaned['Date'])\n"
      ],
      "metadata": {
        "colab": {
          "base_uri": "https://localhost:8080/"
        },
        "id": "Hxnat51xvbow",
        "outputId": "f8128b49-10bf-4ed5-deac-a982ac5b5e65"
      },
      "execution_count": null,
      "outputs": [
        {
          "output_type": "stream",
          "name": "stdout",
          "text": [
            "1          2018\n",
            "2          2018\n",
            "3          2017\n",
            "4          2018\n",
            "5          2018\n",
            "           ... \n",
            "1048570    2018\n",
            "1048571    2017\n",
            "1048572    2018\n",
            "1048573    2018\n",
            "1048574    2018\n",
            "Name: Date, Length: 1048241, dtype: object\n"
          ]
        },
        {
          "output_type": "stream",
          "name": "stderr",
          "text": [
            "<ipython-input-11-a1e433ff53ea>:6: SettingWithCopyWarning: \n",
            "A value is trying to be set on a copy of a slice from a DataFrame.\n",
            "Try using .loc[row_indexer,col_indexer] = value instead\n",
            "\n",
            "See the caveats in the documentation: https://pandas.pydata.org/pandas-docs/stable/user_guide/indexing.html#returning-a-view-versus-a-copy\n",
            "  df_cleaned['Date'] = df_cleaned['Date'].str.split('-').str[-1]\n"
          ]
        }
      ]
    },
    {
      "cell_type": "code",
      "source": [
        "# prompt: remove rows that has any symbols in Track Name column\n",
        "\n",
        "import re\n",
        "\n",
        "# Define a function to check if a string contains symbols\n",
        "def has_symbols(s):\n",
        "  return bool(re.search(r'[^a-zA-Z0-9\\s]', s))\n",
        "\n",
        "# Apply the function to the 'Track Name' column and filter the DataFrame\n",
        "df_filtered = df_cleaned[~df_cleaned['Track Name'].apply(has_symbols)]\n",
        "\n",
        "# Display the filtered DataFrame\n",
        "print(df_filtered.head())\n",
        "\n",
        "# Display the number of rows in the filtered DataFrame\n",
        "print(\"Number of rows after removing symbols:\", len(df_filtered))\n"
      ],
      "metadata": {
        "colab": {
          "base_uri": "https://localhost:8080/"
        },
        "id": "5e5ZYadevy99",
        "outputId": "fd859756-e7c2-4906-c1f7-15d717f7b0a2"
      },
      "execution_count": null,
      "outputs": [
        {
          "output_type": "stream",
          "name": "stdout",
          "text": [
            "   Date                                          Track URL  Position  \\\n",
            "4  2018  https://open.spotify.com/track/2iUXsYOEPhVqEBw...         1   \n",
            "5  2018  https://open.spotify.com/track/55S2PQgSMYAhgoT...         1   \n",
            "6  2018  https://open.spotify.com/track/2iUXsYOEPhVqEBw...         1   \n",
            "7  2018  https://open.spotify.com/track/7ATATJztoWLcqDA...         1   \n",
            "8  2018  https://open.spotify.com/track/7ATATJztoWLcqDA...         1   \n",
            "\n",
            "   Track Name               Artist  Streams      Country  \n",
            "4  Youngblood  5 Seconds of Summer   261795    Australia  \n",
            "5  Youngblood  5 Seconds of Summer   276266    Australia  \n",
            "6  Youngblood  5 Seconds of Summer    56610  New Zealand  \n",
            "7        BEBE              6ix9ine    12957       Panama  \n",
            "8        BEBE              6ix9ine    14261       Panama  \n",
            "Number of rows after removing symbols: 630745\n"
          ]
        }
      ]
    },
    {
      "cell_type": "code",
      "source": [
        "# prompt: download the dataset after all modifications done\n",
        "\n",
        "df_filtered.to_csv('modified_data.csv', index=False)\n",
        "files.download('modified_data.csv')\n"
      ],
      "metadata": {
        "colab": {
          "base_uri": "https://localhost:8080/",
          "height": 17
        },
        "id": "JI-3VwJIwksz",
        "outputId": "6dacded8-fb98-4df2-a8cf-5da4e2a8cac8"
      },
      "execution_count": null,
      "outputs": [
        {
          "output_type": "display_data",
          "data": {
            "text/plain": [
              "<IPython.core.display.Javascript object>"
            ],
            "application/javascript": [
              "\n",
              "    async function download(id, filename, size) {\n",
              "      if (!google.colab.kernel.accessAllowed) {\n",
              "        return;\n",
              "      }\n",
              "      const div = document.createElement('div');\n",
              "      const label = document.createElement('label');\n",
              "      label.textContent = `Downloading \"${filename}\": `;\n",
              "      div.appendChild(label);\n",
              "      const progress = document.createElement('progress');\n",
              "      progress.max = size;\n",
              "      div.appendChild(progress);\n",
              "      document.body.appendChild(div);\n",
              "\n",
              "      const buffers = [];\n",
              "      let downloaded = 0;\n",
              "\n",
              "      const channel = await google.colab.kernel.comms.open(id);\n",
              "      // Send a message to notify the kernel that we're ready.\n",
              "      channel.send({})\n",
              "\n",
              "      for await (const message of channel.messages) {\n",
              "        // Send a message to notify the kernel that we're ready.\n",
              "        channel.send({})\n",
              "        if (message.buffers) {\n",
              "          for (const buffer of message.buffers) {\n",
              "            buffers.push(buffer);\n",
              "            downloaded += buffer.byteLength;\n",
              "            progress.value = downloaded;\n",
              "          }\n",
              "        }\n",
              "      }\n",
              "      const blob = new Blob(buffers, {type: 'application/binary'});\n",
              "      const a = document.createElement('a');\n",
              "      a.href = window.URL.createObjectURL(blob);\n",
              "      a.download = filename;\n",
              "      div.appendChild(a);\n",
              "      a.click();\n",
              "      div.remove();\n",
              "    }\n",
              "  "
            ]
          },
          "metadata": {}
        },
        {
          "output_type": "display_data",
          "data": {
            "text/plain": [
              "<IPython.core.display.Javascript object>"
            ],
            "application/javascript": [
              "download(\"download_9ed05077-9bb9-43a2-875a-3ede2c6b0e9b\", \"modified_data.csv\", 62944110)"
            ]
          },
          "metadata": {}
        }
      ]
    },
    {
      "cell_type": "code",
      "source": [
        "# prompt: remove duplicates that has same value in all the columns\n",
        "\n",
        "# Drop duplicate rows based on all columns\n",
        "df_no_duplicates = df_filtered.drop_duplicates()\n",
        "\n",
        "# Display the DataFrame without duplicates\n",
        "print(df_no_duplicates.head())\n",
        "\n",
        "# Display the number of rows in the DataFrame without duplicates\n",
        "print(\"Number of rows after removing duplicates:\", len(df_no_duplicates))\n"
      ],
      "metadata": {
        "colab": {
          "base_uri": "https://localhost:8080/"
        },
        "id": "AU7iHeLgxagI",
        "outputId": "658eec1a-d54b-4677-f326-3f7ccf91d2c5"
      },
      "execution_count": null,
      "outputs": [
        {
          "output_type": "stream",
          "name": "stdout",
          "text": [
            "   Date                                          Track URL  Position  \\\n",
            "4  2018  https://open.spotify.com/track/2iUXsYOEPhVqEBw...         1   \n",
            "5  2018  https://open.spotify.com/track/55S2PQgSMYAhgoT...         1   \n",
            "6  2018  https://open.spotify.com/track/2iUXsYOEPhVqEBw...         1   \n",
            "7  2018  https://open.spotify.com/track/7ATATJztoWLcqDA...         1   \n",
            "8  2018  https://open.spotify.com/track/7ATATJztoWLcqDA...         1   \n",
            "\n",
            "   Track Name               Artist  Streams      Country  \n",
            "4  Youngblood  5 Seconds of Summer   261795    Australia  \n",
            "5  Youngblood  5 Seconds of Summer   276266    Australia  \n",
            "6  Youngblood  5 Seconds of Summer    56610  New Zealand  \n",
            "7        BEBE              6ix9ine    12957       Panama  \n",
            "8        BEBE              6ix9ine    14261       Panama  \n",
            "Number of rows after removing duplicates: 630678\n"
          ]
        }
      ]
    },
    {
      "cell_type": "code",
      "source": [
        "# prompt: if rows having same values in every column except streams then add the value of streams and make it as single row\n",
        "\n",
        "# Group by all columns except 'Streams' and sum the 'Streams' values\n",
        "df_aggregated = df_no_duplicates.groupby(df_no_duplicates.columns.difference(['Streams']).tolist(), as_index=False)['Streams'].sum()\n",
        "\n",
        "# Display the aggregated DataFrame\n",
        "print(df_aggregated.head())\n",
        "\n",
        "# Display the number of rows in the aggregated DataFrame\n",
        "print(\"Number of rows after aggregating streams:\", len(df_aggregated))\n"
      ],
      "metadata": {
        "colab": {
          "base_uri": "https://localhost:8080/"
        },
        "id": "YvWZQxhcyYRM",
        "outputId": "39aa91a3-06c4-42bd-92f8-8c4284705801"
      },
      "execution_count": null,
      "outputs": [
        {
          "output_type": "stream",
          "name": "stdout",
          "text": [
            "         Artist    Country  Date  Position     Track Name  \\\n",
            "0  #TocoParaVos  Argentina  2017        74  Hasta la luna   \n",
            "1  #TocoParaVos  Argentina  2017        96  Hasta la luna   \n",
            "2  #TocoParaVos  Argentina  2017       106  Hasta la luna   \n",
            "3  #TocoParaVos  Argentina  2017       107  Hasta la luna   \n",
            "4  #TocoParaVos  Argentina  2017       122  Hasta la luna   \n",
            "\n",
            "                                           Track URL  Streams  \n",
            "0  https://open.spotify.com/track/1A3yLIqelu1D7MC...    23603  \n",
            "1  https://open.spotify.com/track/1A3yLIqelu1D7MC...    20594  \n",
            "2  https://open.spotify.com/track/1A3yLIqelu1D7MC...    18344  \n",
            "3  https://open.spotify.com/track/1A3yLIqelu1D7MC...    19628  \n",
            "4  https://open.spotify.com/track/1A3yLIqelu1D7MC...    34523  \n",
            "Number of rows after aggregating streams: 554320\n"
          ]
        }
      ]
    },
    {
      "cell_type": "code",
      "source": [
        "# prompt: remove unrecognized symbols in Artist column\n",
        "\n",
        "# Define a function to check if a string contains symbols\n",
        "def has_symbols(s):\n",
        "  return bool(re.search(r'[^a-zA-Z0-9\\s]', s))\n",
        "\n",
        "# Apply the function to the 'Artist' column and filter the DataFrame\n",
        "df_filtered_artists = df_aggregated[~df_aggregated['Artist'].apply(has_symbols)]\n",
        "\n",
        "# Display the filtered DataFrame\n",
        "print(df_filtered_artists.head())\n",
        "\n",
        "# Display the number of rows in the filtered DataFrame\n",
        "print(\"Number of rows after removing symbols from 'Artist':\", len(df_filtered_artists))\n"
      ],
      "metadata": {
        "colab": {
          "base_uri": "https://localhost:8080/"
        },
        "id": "NXIyW49Ny-od",
        "outputId": "1b776f88-3350-4fab-adfc-17c672bf3a83"
      },
      "execution_count": null,
      "outputs": [
        {
          "output_type": "stream",
          "name": "stdout",
          "text": [
            "                 Artist  Country  Date  Position Track Name  \\\n",
            "245  04 Limited Sazabys    Japan  2018       114  Milestone   \n",
            "246  04 Limited Sazabys    Japan  2018       193  Milestone   \n",
            "247           070 Shake  Ireland  2018       113      Honey   \n",
            "248           070 Shake  Ireland  2018       121      Honey   \n",
            "249           070 Shake  Ireland  2018       122      Honey   \n",
            "\n",
            "                                             Track URL  Streams  \n",
            "245  https://open.spotify.com/track/2wKZpvZGtuOuh8N...     7243  \n",
            "246  https://open.spotify.com/track/2wKZpvZGtuOuh8N...    11012  \n",
            "247  https://open.spotify.com/track/0PoMoPqIJxe6H0r...     5755  \n",
            "248  https://open.spotify.com/track/0PoMoPqIJxe6H0r...    11347  \n",
            "249  https://open.spotify.com/track/0PoMoPqIJxe6H0r...     5647  \n",
            "Number of rows after removing symbols from 'Artist': 514931\n"
          ]
        }
      ]
    },
    {
      "cell_type": "code",
      "source": [
        "# prompt: download the modified dataset\n",
        "\n",
        "df_filtered_artists.to_csv('modified_data.csv', index=False)\n",
        "files.download('modified_data.csv')\n"
      ],
      "metadata": {
        "colab": {
          "base_uri": "https://localhost:8080/",
          "height": 17
        },
        "id": "G5XmK8-ZzZcR",
        "outputId": "eae94980-3832-494e-f164-b5beead0f7f3"
      },
      "execution_count": null,
      "outputs": [
        {
          "output_type": "display_data",
          "data": {
            "text/plain": [
              "<IPython.core.display.Javascript object>"
            ],
            "application/javascript": [
              "\n",
              "    async function download(id, filename, size) {\n",
              "      if (!google.colab.kernel.accessAllowed) {\n",
              "        return;\n",
              "      }\n",
              "      const div = document.createElement('div');\n",
              "      const label = document.createElement('label');\n",
              "      label.textContent = `Downloading \"${filename}\": `;\n",
              "      div.appendChild(label);\n",
              "      const progress = document.createElement('progress');\n",
              "      progress.max = size;\n",
              "      div.appendChild(progress);\n",
              "      document.body.appendChild(div);\n",
              "\n",
              "      const buffers = [];\n",
              "      let downloaded = 0;\n",
              "\n",
              "      const channel = await google.colab.kernel.comms.open(id);\n",
              "      // Send a message to notify the kernel that we're ready.\n",
              "      channel.send({})\n",
              "\n",
              "      for await (const message of channel.messages) {\n",
              "        // Send a message to notify the kernel that we're ready.\n",
              "        channel.send({})\n",
              "        if (message.buffers) {\n",
              "          for (const buffer of message.buffers) {\n",
              "            buffers.push(buffer);\n",
              "            downloaded += buffer.byteLength;\n",
              "            progress.value = downloaded;\n",
              "          }\n",
              "        }\n",
              "      }\n",
              "      const blob = new Blob(buffers, {type: 'application/binary'});\n",
              "      const a = document.createElement('a');\n",
              "      a.href = window.URL.createObjectURL(blob);\n",
              "      a.download = filename;\n",
              "      div.appendChild(a);\n",
              "      a.click();\n",
              "      div.remove();\n",
              "    }\n",
              "  "
            ]
          },
          "metadata": {}
        },
        {
          "output_type": "display_data",
          "data": {
            "text/plain": [
              "<IPython.core.display.Javascript object>"
            ],
            "application/javascript": [
              "download(\"download_90df361f-60d0-4e8b-96d4-cc2fe58d59ef\", \"modified_data.csv\", 51324914)"
            ]
          },
          "metadata": {}
        }
      ]
    },
    {
      "cell_type": "code",
      "source": [
        "# prompt: if rows have same column values except position and streams , take the least position value among these and add the streams and make it has a single row\n",
        "\n",
        "# Group by all columns except 'Position' and 'Streams', then aggregate\n",
        "df_processed = df_filtered_artists.groupby(df_filtered_artists.columns.difference(['Position', 'Streams']).tolist()).agg({'Position': 'min', 'Streams': 'sum'}).reset_index()\n",
        "\n",
        "# Display the processed DataFrame\n",
        "print(df_processed.head())\n",
        "\n",
        "# Display the number of rows in the processed DataFrame\n",
        "print(\"Number of rows after processing:\", len(df_processed))\n"
      ],
      "metadata": {
        "colab": {
          "base_uri": "https://localhost:8080/"
        },
        "id": "-TUawxVc0gxM",
        "outputId": "d8e5d8de-e913-436a-943f-11bfe2209fc9"
      },
      "execution_count": null,
      "outputs": [
        {
          "output_type": "stream",
          "name": "stdout",
          "text": [
            "               Artist         Country  Date          Track Name  \\\n",
            "0  04 Limited Sazabys           Japan  2018           Milestone   \n",
            "1           070 Shake         Ireland  2018               Honey   \n",
            "2           070 Shake         Ireland  2019               Honey   \n",
            "3         1 Hour Band  United Kingdom  2018  You Want My Sister   \n",
            "4           100 Blaze         Belgium  2019               Binks   \n",
            "\n",
            "                                           Track URL  Position  Streams  \n",
            "0  https://open.spotify.com/track/2wKZpvZGtuOuh8N...       114    18255  \n",
            "1  https://open.spotify.com/track/0PoMoPqIJxe6H0r...       113   122668  \n",
            "2  https://open.spotify.com/track/0PoMoPqIJxe6H0r...        59   174007  \n",
            "3  https://open.spotify.com/track/0HVHwTlOA0piDJY...       137    52661  \n",
            "4  https://open.spotify.com/track/1kX5NXQDQbvqhxv...       143    12027  \n",
            "Number of rows after processing: 73829\n"
          ]
        }
      ]
    },
    {
      "cell_type": "code",
      "source": [
        "# prompt: download the modified dataset\n",
        "\n",
        "df_filtered_artists.to_csv('modified_data.csv', index=False)\n",
        "files.download('modified_data.csv')"
      ],
      "metadata": {
        "colab": {
          "base_uri": "https://localhost:8080/",
          "height": 17
        },
        "id": "X1zhs5Vu1LNV",
        "outputId": "9c0d49b3-ee6a-4222-c157-3c3b5b8193f3"
      },
      "execution_count": null,
      "outputs": [
        {
          "output_type": "display_data",
          "data": {
            "text/plain": [
              "<IPython.core.display.Javascript object>"
            ],
            "application/javascript": [
              "\n",
              "    async function download(id, filename, size) {\n",
              "      if (!google.colab.kernel.accessAllowed) {\n",
              "        return;\n",
              "      }\n",
              "      const div = document.createElement('div');\n",
              "      const label = document.createElement('label');\n",
              "      label.textContent = `Downloading \"${filename}\": `;\n",
              "      div.appendChild(label);\n",
              "      const progress = document.createElement('progress');\n",
              "      progress.max = size;\n",
              "      div.appendChild(progress);\n",
              "      document.body.appendChild(div);\n",
              "\n",
              "      const buffers = [];\n",
              "      let downloaded = 0;\n",
              "\n",
              "      const channel = await google.colab.kernel.comms.open(id);\n",
              "      // Send a message to notify the kernel that we're ready.\n",
              "      channel.send({})\n",
              "\n",
              "      for await (const message of channel.messages) {\n",
              "        // Send a message to notify the kernel that we're ready.\n",
              "        channel.send({})\n",
              "        if (message.buffers) {\n",
              "          for (const buffer of message.buffers) {\n",
              "            buffers.push(buffer);\n",
              "            downloaded += buffer.byteLength;\n",
              "            progress.value = downloaded;\n",
              "          }\n",
              "        }\n",
              "      }\n",
              "      const blob = new Blob(buffers, {type: 'application/binary'});\n",
              "      const a = document.createElement('a');\n",
              "      a.href = window.URL.createObjectURL(blob);\n",
              "      a.download = filename;\n",
              "      div.appendChild(a);\n",
              "      a.click();\n",
              "      div.remove();\n",
              "    }\n",
              "  "
            ]
          },
          "metadata": {}
        },
        {
          "output_type": "display_data",
          "data": {
            "text/plain": [
              "<IPython.core.display.Javascript object>"
            ],
            "application/javascript": [
              "download(\"download_a16cbde6-146c-401f-a7fd-01cdfc0c6b74\", \"modified_data.csv\", 51324914)"
            ]
          },
          "metadata": {}
        }
      ]
    },
    {
      "cell_type": "code",
      "source": [
        "# prompt: remove rows with Position value that has more than 100\n",
        "\n",
        "# Filter rows where 'Position' is less than or equal to 100\n",
        "df_filtered_position = df_processed[df_processed['Position'] <= 100]\n",
        "\n",
        "# Display the filtered DataFrame\n",
        "print(df_filtered_position.head())\n",
        "\n",
        "# Display the number of rows in the filtered DataFrame\n",
        "print(\"Number of rows after filtering positions:\", len(df_filtered_position))\n"
      ],
      "metadata": {
        "colab": {
          "base_uri": "https://localhost:8080/"
        },
        "id": "s5XCKrm-2KGn",
        "outputId": "3c0530d6-fd2b-4e3c-8c15-ec552a25731c"
      },
      "execution_count": null,
      "outputs": [
        {
          "output_type": "stream",
          "name": "stdout",
          "text": [
            "       Artist  Country  Date Track Name  \\\n",
            "2   070 Shake  Ireland  2019      Honey   \n",
            "5   100 Blaze   France  2019      Binks   \n",
            "15   13 Block   France  2018       Vide   \n",
            "19   13 Block   France  2019         CR   \n",
            "20   13 Block   France  2019   Faut que   \n",
            "\n",
            "                                            Track URL  Position  Streams  \n",
            "2   https://open.spotify.com/track/0PoMoPqIJxe6H0r...        59   174007  \n",
            "5   https://open.spotify.com/track/1kX5NXQDQbvqhxv...        25   260163  \n",
            "15  https://open.spotify.com/track/69RclklKbEelwfQ...        64   767312  \n",
            "19  https://open.spotify.com/track/03xpHogfjfi2uif...        91   246319  \n",
            "20  https://open.spotify.com/track/6ixl3fFKqrqBZcF...        58   282991  \n",
            "Number of rows after filtering positions: 41170\n"
          ]
        }
      ]
    },
    {
      "cell_type": "code",
      "source": [
        "# prompt: print total no of rows\n",
        "\n",
        "print(\"Total number of rows:\", len(df_filtered_position))\n"
      ],
      "metadata": {
        "colab": {
          "base_uri": "https://localhost:8080/"
        },
        "id": "qntASaCz6NHu",
        "outputId": "e6f80028-dfec-4527-9ec2-140b61978e1f"
      },
      "execution_count": null,
      "outputs": [
        {
          "output_type": "stream",
          "name": "stdout",
          "text": [
            "Total number of rows: 41170\n"
          ]
        }
      ]
    },
    {
      "cell_type": "code",
      "source": [
        "# prompt: split the dataset into three excel files based on the year 2017,2018,2019 and sort the each excel by position value ascending order\n",
        "\n",
        "# Filter and sort data for each year\n",
        "df_2017 = df_filtered_position[df_filtered_position['Date'] == '2017'].sort_values('Position')\n",
        "df_2018 = df_filtered_position[df_filtered_position['Date'] == '2018'].sort_values('Position')\n",
        "df_2019 = df_filtered_position[df_filtered_position['Date'] == '2019'].sort_values('Position')\n",
        "\n",
        "# Write each DataFrame to an Excel file\n",
        "df_2017.to_excel('spotify_2017.xlsx', index=False)\n",
        "df_2018.to_excel('spotify_2018.xlsx', index=False)\n",
        "df_2019.to_excel('spotify_2019.xlsx', index=False)\n",
        "\n",
        "# Download the Excel files\n",
        "files.download('spotify_2017.xlsx')\n",
        "files.download('spotify_2018.xlsx')\n",
        "files.download('spotify_2019.xlsx')\n"
      ],
      "metadata": {
        "colab": {
          "base_uri": "https://localhost:8080/",
          "height": 17
        },
        "id": "86kJSTdy6pNG",
        "outputId": "f09a7d75-aba1-4fe7-a199-22e45ceee218"
      },
      "execution_count": null,
      "outputs": [
        {
          "output_type": "display_data",
          "data": {
            "text/plain": [
              "<IPython.core.display.Javascript object>"
            ],
            "application/javascript": [
              "\n",
              "    async function download(id, filename, size) {\n",
              "      if (!google.colab.kernel.accessAllowed) {\n",
              "        return;\n",
              "      }\n",
              "      const div = document.createElement('div');\n",
              "      const label = document.createElement('label');\n",
              "      label.textContent = `Downloading \"${filename}\": `;\n",
              "      div.appendChild(label);\n",
              "      const progress = document.createElement('progress');\n",
              "      progress.max = size;\n",
              "      div.appendChild(progress);\n",
              "      document.body.appendChild(div);\n",
              "\n",
              "      const buffers = [];\n",
              "      let downloaded = 0;\n",
              "\n",
              "      const channel = await google.colab.kernel.comms.open(id);\n",
              "      // Send a message to notify the kernel that we're ready.\n",
              "      channel.send({})\n",
              "\n",
              "      for await (const message of channel.messages) {\n",
              "        // Send a message to notify the kernel that we're ready.\n",
              "        channel.send({})\n",
              "        if (message.buffers) {\n",
              "          for (const buffer of message.buffers) {\n",
              "            buffers.push(buffer);\n",
              "            downloaded += buffer.byteLength;\n",
              "            progress.value = downloaded;\n",
              "          }\n",
              "        }\n",
              "      }\n",
              "      const blob = new Blob(buffers, {type: 'application/binary'});\n",
              "      const a = document.createElement('a');\n",
              "      a.href = window.URL.createObjectURL(blob);\n",
              "      a.download = filename;\n",
              "      div.appendChild(a);\n",
              "      a.click();\n",
              "      div.remove();\n",
              "    }\n",
              "  "
            ]
          },
          "metadata": {}
        },
        {
          "output_type": "display_data",
          "data": {
            "text/plain": [
              "<IPython.core.display.Javascript object>"
            ],
            "application/javascript": [
              "download(\"download_d901c27e-fc6d-493b-972b-93404abd942b\", \"spotify_2017.xlsx\", 859410)"
            ]
          },
          "metadata": {}
        },
        {
          "output_type": "display_data",
          "data": {
            "text/plain": [
              "<IPython.core.display.Javascript object>"
            ],
            "application/javascript": [
              "\n",
              "    async function download(id, filename, size) {\n",
              "      if (!google.colab.kernel.accessAllowed) {\n",
              "        return;\n",
              "      }\n",
              "      const div = document.createElement('div');\n",
              "      const label = document.createElement('label');\n",
              "      label.textContent = `Downloading \"${filename}\": `;\n",
              "      div.appendChild(label);\n",
              "      const progress = document.createElement('progress');\n",
              "      progress.max = size;\n",
              "      div.appendChild(progress);\n",
              "      document.body.appendChild(div);\n",
              "\n",
              "      const buffers = [];\n",
              "      let downloaded = 0;\n",
              "\n",
              "      const channel = await google.colab.kernel.comms.open(id);\n",
              "      // Send a message to notify the kernel that we're ready.\n",
              "      channel.send({})\n",
              "\n",
              "      for await (const message of channel.messages) {\n",
              "        // Send a message to notify the kernel that we're ready.\n",
              "        channel.send({})\n",
              "        if (message.buffers) {\n",
              "          for (const buffer of message.buffers) {\n",
              "            buffers.push(buffer);\n",
              "            downloaded += buffer.byteLength;\n",
              "            progress.value = downloaded;\n",
              "          }\n",
              "        }\n",
              "      }\n",
              "      const blob = new Blob(buffers, {type: 'application/binary'});\n",
              "      const a = document.createElement('a');\n",
              "      a.href = window.URL.createObjectURL(blob);\n",
              "      a.download = filename;\n",
              "      div.appendChild(a);\n",
              "      a.click();\n",
              "      div.remove();\n",
              "    }\n",
              "  "
            ]
          },
          "metadata": {}
        },
        {
          "output_type": "display_data",
          "data": {
            "text/plain": [
              "<IPython.core.display.Javascript object>"
            ],
            "application/javascript": [
              "download(\"download_4722b0af-f848-4ac6-b231-7a46ef59476d\", \"spotify_2018.xlsx\", 1111586)"
            ]
          },
          "metadata": {}
        },
        {
          "output_type": "display_data",
          "data": {
            "text/plain": [
              "<IPython.core.display.Javascript object>"
            ],
            "application/javascript": [
              "\n",
              "    async function download(id, filename, size) {\n",
              "      if (!google.colab.kernel.accessAllowed) {\n",
              "        return;\n",
              "      }\n",
              "      const div = document.createElement('div');\n",
              "      const label = document.createElement('label');\n",
              "      label.textContent = `Downloading \"${filename}\": `;\n",
              "      div.appendChild(label);\n",
              "      const progress = document.createElement('progress');\n",
              "      progress.max = size;\n",
              "      div.appendChild(progress);\n",
              "      document.body.appendChild(div);\n",
              "\n",
              "      const buffers = [];\n",
              "      let downloaded = 0;\n",
              "\n",
              "      const channel = await google.colab.kernel.comms.open(id);\n",
              "      // Send a message to notify the kernel that we're ready.\n",
              "      channel.send({})\n",
              "\n",
              "      for await (const message of channel.messages) {\n",
              "        // Send a message to notify the kernel that we're ready.\n",
              "        channel.send({})\n",
              "        if (message.buffers) {\n",
              "          for (const buffer of message.buffers) {\n",
              "            buffers.push(buffer);\n",
              "            downloaded += buffer.byteLength;\n",
              "            progress.value = downloaded;\n",
              "          }\n",
              "        }\n",
              "      }\n",
              "      const blob = new Blob(buffers, {type: 'application/binary'});\n",
              "      const a = document.createElement('a');\n",
              "      a.href = window.URL.createObjectURL(blob);\n",
              "      a.download = filename;\n",
              "      div.appendChild(a);\n",
              "      a.click();\n",
              "      div.remove();\n",
              "    }\n",
              "  "
            ]
          },
          "metadata": {}
        },
        {
          "output_type": "display_data",
          "data": {
            "text/plain": [
              "<IPython.core.display.Javascript object>"
            ],
            "application/javascript": [
              "download(\"download_e8b946dd-fc16-44d3-9020-81811ec918c9\", \"spotify_2019.xlsx\", 614285)"
            ]
          },
          "metadata": {}
        }
      ]
    },
    {
      "cell_type": "code",
      "source": [
        "# prompt: print no of rows in each excel\n",
        "\n",
        "print(\"Number of rows in spotify_2017.xlsx:\", len(df_2017))\n",
        "print(\"Number of rows in spotify_2018.xlsx:\", len(df_2018))\n",
        "print(\"Number of rows in spotify_2019.xlsx:\", len(df_2019))\n"
      ],
      "metadata": {
        "colab": {
          "base_uri": "https://localhost:8080/"
        },
        "id": "PIwC0-m_8FgY",
        "outputId": "71402d5c-de31-4c68-9df4-c954ce5cff85"
      },
      "execution_count": null,
      "outputs": [
        {
          "output_type": "stream",
          "name": "stdout",
          "text": [
            "Number of rows in spotify_2017.xlsx: 13878\n",
            "Number of rows in spotify_2018.xlsx: 17476\n",
            "Number of rows in spotify_2019.xlsx: 9816\n"
          ]
        }
      ]
    },
    {
      "cell_type": "code",
      "source": [
        "# prompt: read spotify_2017.xlsx csv file and if rows having same values in every column except streams then add the value of streams and make it as single row\n",
        "\n",
        "import pandas as pd\n",
        "\n",
        "# Read the Excel file\n",
        "df_2017 = pd.read_excel('spotify_2017.xlsx')\n",
        "\n",
        "# Group by all columns except 'Streams' and sum the 'Streams' values\n",
        "df_aggregated = df_2017.groupby(df_2017.columns.difference(['Streams']).tolist(), as_index=False)['Streams'].sum()\n",
        "\n",
        "# Display the aggregated DataFrame\n",
        "print(df_aggregated.head())\n",
        "\n",
        "# Display the number of rows in the aggregated DataFrame\n",
        "print(\"Number of rows after aggregating streams:\", len(df_aggregated))\n"
      ],
      "metadata": {
        "colab": {
          "base_uri": "https://localhost:8080/"
        },
        "id": "1gTPWSij9IC0",
        "outputId": "da56a787-e038-42d5-e79b-87a94bacf693"
      },
      "execution_count": null,
      "outputs": [
        {
          "output_type": "stream",
          "name": "stdout",
          "text": [
            "              Artist  Country  Date  Position     Track Name  \\\n",
            "0  187 Strassenbande  Austria  2017        27      High Life   \n",
            "1  187 Strassenbande  Austria  2017        49  Mit den Jungz   \n",
            "2  187 Strassenbande  Austria  2017        57          45497   \n",
            "3  187 Strassenbande  Germany  2017         3      High Life   \n",
            "4  187 Strassenbande  Germany  2017         3  Mit den Jungz   \n",
            "\n",
            "                                           Track URL  Streams  \n",
            "0  https://open.spotify.com/track/0Vy7fWzknPBpNTw...    43975  \n",
            "1  https://open.spotify.com/track/5L56aF7d720Zayt...    13316  \n",
            "2  https://open.spotify.com/track/2TUcc3b5gFgq7oa...    11541  \n",
            "3  https://open.spotify.com/track/0Vy7fWzknPBpNTw...   961493  \n",
            "4  https://open.spotify.com/track/3aDYo34VzVf2i8a...  1315558  \n",
            "Number of rows after aggregating streams: 13878\n"
          ]
        }
      ]
    },
    {
      "cell_type": "code",
      "source": [
        "# prompt: if rows have same values in Artists,Country,Date,Position,TrackName ,(Do not consider track url) , then add other streams with the highest stream value and delete the remaining similar rows\n",
        "\n",
        "# Group by relevant columns and aggregate\n",
        "df_aggregated = df_2017.groupby(['Artist', 'Country', 'Date', 'Position', 'Track Name'], as_index=False)['Streams'].sum()\n",
        "\n",
        "# Sort by streams in descending order within each group\n",
        "df_sorted = df_aggregated.sort_values(['Artist', 'Country', 'Date', 'Position', 'Track Name', 'Streams'], ascending=[True, True, True, True, True, False])\n",
        "\n",
        "# Keep only the row with the highest streams for each group\n",
        "df_deduped = df_sorted.drop_duplicates(['Artist', 'Country', 'Date', 'Position', 'Track Name'], keep='first')\n",
        "\n",
        "# Display the de-duplicated DataFrame\n",
        "print(df_deduped.head())\n",
        "\n",
        "# Display the number of rows in the de-duplicated DataFrame\n",
        "print(\"Number of rows after de-duplication:\", len(df_deduped))\n"
      ],
      "metadata": {
        "colab": {
          "base_uri": "https://localhost:8080/"
        },
        "id": "1D52PUCm_n_t",
        "outputId": "57e48ffe-2e86-4770-cd79-4d74bb1bf56d"
      },
      "execution_count": null,
      "outputs": [
        {
          "output_type": "stream",
          "name": "stdout",
          "text": [
            "              Artist  Country  Date  Position     Track Name  Streams\n",
            "0  187 Strassenbande  Austria  2017        27      High Life    43975\n",
            "1  187 Strassenbande  Austria  2017        49  Mit den Jungz    13316\n",
            "2  187 Strassenbande  Austria  2017        57          45497    11541\n",
            "3  187 Strassenbande  Germany  2017         3      High Life   961493\n",
            "4  187 Strassenbande  Germany  2017         3  Mit den Jungz  1315558\n",
            "Number of rows after de-duplication: 13792\n"
          ]
        }
      ]
    },
    {
      "cell_type": "code",
      "source": [],
      "metadata": {
        "id": "S8ldRSwcCvZK"
      },
      "execution_count": null,
      "outputs": []
    }
  ]
}